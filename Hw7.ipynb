{
 "cells": [
  {
   "cell_type": "code",
   "execution_count": 1,
   "metadata": {},
   "outputs": [],
   "source": [
    "from surprise import SVD, SVDpp, NMF\n",
    "from surprise import accuracy\n",
    "from surprise import Dataset, Reader\n",
    "from surprise.model_selection import GridSearchCV, train_test_split"
   ]
  },
  {
   "cell_type": "code",
   "execution_count": 2,
   "metadata": {},
   "outputs": [],
   "source": [
    "data = Dataset.load_builtin(name=\"ml-100k\", prompt=False)\n",
    "reader = Reader(rating_scale=(1, 5))\n",
    "trainset, testset = train_test_split(data, test_size=0.25)"
   ]
  },
  {
   "cell_type": "code",
   "execution_count": 3,
   "metadata": {},
   "outputs": [],
   "source": [
    "param_grid = {\"n_factors\": [20, 25, 30], \"n_epochs\": [15, 20, 25], \"lr_all\": [0.005, 0.01, 0.02], \"reg_all\": [0.02, 0.04, 0.06]}\n",
    "svd = GridSearchCV(SVD, param_grid, measures=[\"rmse\", \"mae\"], refit=\"rmse\", cv=5, n_jobs=-1)\n",
    "\n",
    "svd.fit(data)\n",
    "\n",
    "predictions_svd = svd.best_estimator[\"rmse\"].test(testset)"
   ]
  },
  {
   "cell_type": "code",
   "execution_count": 4,
   "metadata": {},
   "outputs": [],
   "source": [
    "param_grid = {\"n_factors\": [20, 25, 30], \"n_epochs\": [15, 20, 25], \"lr_all\": [0.005, 0.01, 0.02], \"reg_all\": [0.02, 0.04, 0.06]}\n",
    "svdpp = GridSearchCV(SVDpp, param_grid, measures=[\"rmse\", \"mae\"], refit=\"rmse\", cv=5, n_jobs=-1)\n",
    "\n",
    "svdpp.fit(data)\n",
    "\n",
    "predictions_svdpp = svdpp.best_estimator[\"rmse\"].test(testset)"
   ]
  },
  {
   "cell_type": "code",
   "execution_count": 5,
   "metadata": {},
   "outputs": [],
   "source": [
    "param_grid = {\"n_factors\": [15, 20, 25], \"n_epochs\": [15, 20, 25], \"reg_pu\": [0.02, 0.04, 0.06], \"reg_qi\": [0.02, 0.04, 0.06]}\n",
    "nmf = GridSearchCV(NMF, param_grid, measures=[\"rmse\", \"mae\"], refit=\"rmse\", cv=5, n_jobs=-1)\n",
    "\n",
    "nmf.fit(data)\n",
    "\n",
    "predictions_nmf = nmf.best_estimator[\"rmse\"].test(testset)"
   ]
  },
  {
   "cell_type": "code",
   "execution_count": 6,
   "metadata": {},
   "outputs": [
    {
     "name": "stdout",
     "output_type": "stream",
     "text": [
      "Best RMSE for SVD: 0.9167252689782\n",
      "Best parameters for SVD: {'n_factors': 30, 'n_epochs': 25, 'lr_all': 0.01, 'reg_all': 0.06}\n",
      "\n",
      "RMSE: 0.7188\n",
      "0.7187807725843827\n",
      "\n",
      "Best RMSE for SVD++: 0.9126840208495445\n",
      "Best parameters for SVD++: {'n_factors': 30, 'n_epochs': 20, 'lr_all': 0.01, 'reg_all': 0.06}\n",
      "\n",
      "RMSE: 0.7563\n",
      "0.7562991746648279\n",
      "\n",
      "Best RMSE for NMF: 0.9767643936072599\n",
      "Best parameters for NMF: {'n_factors': 15, 'n_epochs': 20, 'reg_pu': 0.06, 'reg_qi': 0.06}\n",
      "\n",
      "RMSE: 0.8730\n",
      "0.873028146608852\n"
     ]
    }
   ],
   "source": [
    "print(f\"Best RMSE for SVD: {svd.best_score['rmse']}\")\n",
    "print(f\"Best parameters for SVD: {svd.best_params['rmse']}\\n\")\n",
    "print(f\"{accuracy.rmse(predictions_svd)}\\n\")\n",
    "\n",
    "print(f\"Best RMSE for SVD++: {svdpp.best_score['rmse']}\")\n",
    "print(f\"Best parameters for SVD++: {svdpp.best_params['rmse']}\\n\")\n",
    "print(f\"{accuracy.rmse(predictions_svdpp)}\\n\")\n",
    "\n",
    "print(f\"Best RMSE for NMF: {nmf.best_score['rmse']}\")\n",
    "print(f\"Best parameters for NMF: {nmf.best_params['rmse']}\\n\")\n",
    "print(f\"{accuracy.rmse(predictions_nmf)}\")"
   ]
  }
 ],
 "metadata": {
  "language_info": {
   "name": "python"
  }
 },
 "nbformat": 4,
 "nbformat_minor": 2
}
