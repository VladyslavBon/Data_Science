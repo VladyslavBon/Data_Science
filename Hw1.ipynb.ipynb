{
 "cells": [
  {
   "cell_type": "code",
   "execution_count": 1,
   "id": "88631eaf-77f1-4807-adff-2c3f73ed1441",
   "metadata": {},
   "outputs": [],
   "source": [
    "import numpy as np"
   ]
  },
  {
   "cell_type": "markdown",
   "id": "79482e72-5106-45dd-84a5-f978a8f50c84",
   "metadata": {},
   "source": [
    "1. Створіть одновимірний масив (вектор) з першими 10-ма натуральними числами та виведіть його значення."
   ]
  },
  {
   "cell_type": "code",
   "execution_count": 2,
   "id": "35a0deb9-cc5d-4374-af64-1a63183abc74",
   "metadata": {},
   "outputs": [
    {
     "name": "stdout",
     "output_type": "stream",
     "text": [
      "[ 1  2  3  4  5  6  7  8  9 10]\n"
     ]
    }
   ],
   "source": [
    "x = np.arange(1, 11)\n",
    "print(x)"
   ]
  },
  {
   "cell_type": "markdown",
   "id": "19b2e07a-3fb2-4ccb-94d2-2ef1126e3f23",
   "metadata": {},
   "source": [
    "2. Створіть двовимірний масив (матрицю) розміром 3x3, заповніть його нулями та виведіть його значення."
   ]
  },
  {
   "cell_type": "code",
   "execution_count": 3,
   "id": "abc10b7f-5027-4130-8167-f2aa1ee40e16",
   "metadata": {},
   "outputs": [
    {
     "name": "stdout",
     "output_type": "stream",
     "text": [
      "[[0. 0. 0.]\n",
      " [0. 0. 0.]\n",
      " [0. 0. 0.]]\n"
     ]
    }
   ],
   "source": [
    "x = np.zeros((3, 3))\n",
    "print(x)"
   ]
  },
  {
   "cell_type": "markdown",
   "id": "034a3744-1643-4057-878d-ff3bcf597116",
   "metadata": {},
   "source": [
    "3. Створіть масив розміром 5x5, заповніть його випадковими цілими числами в діапазоні від 1 до 10 та виведіть його значення."
   ]
  },
  {
   "cell_type": "code",
   "execution_count": 4,
   "id": "8de141f3-7edf-470a-80b8-769f0205154f",
   "metadata": {},
   "outputs": [
    {
     "name": "stdout",
     "output_type": "stream",
     "text": [
      "[[ 5  3 10  9  3]\n",
      " [ 3  4  6  9 10]\n",
      " [ 2  7  7  7  2]\n",
      " [ 6  1  1  6  7]\n",
      " [10  1 10  9  3]]\n"
     ]
    }
   ],
   "source": [
    "x = np.random.randint(1, 11, size=(5, 5))\n",
    "print(x)"
   ]
  },
  {
   "cell_type": "markdown",
   "id": "5820a503-2c04-47f1-887b-9454a7279ecd",
   "metadata": {},
   "source": [
    "4. Створіть масив розміром 4x4, заповніть його випадковими дійсними числами в діапазоні від 0 до 1 та виведіть його значення."
   ]
  },
  {
   "cell_type": "code",
   "execution_count": 5,
   "id": "3aad3d00-4d41-49d3-9ee4-f920769e228c",
   "metadata": {},
   "outputs": [
    {
     "name": "stdout",
     "output_type": "stream",
     "text": [
      "[[0.16447416 0.47199978 0.56425677 0.25644609]\n",
      " [0.75201568 0.63096119 0.76231839 0.20489919]\n",
      " [0.98789565 0.42799164 0.87030478 0.16226784]\n",
      " [0.40859731 0.73353579 0.60617638 0.9670662 ]]\n"
     ]
    }
   ],
   "source": [
    "x = np.random.rand(4, 4)\n",
    "print(x)"
   ]
  },
  {
   "cell_type": "markdown",
   "id": "6f0fb34b-8982-49c4-ae41-b3cbe415cc0b",
   "metadata": {},
   "source": [
    "5. Створіть два одновимірних масиви розміром 5, заповніть їх випадковими цілими числами в діапазоні від 1 до 10 та виконайте на них поелементні операції додавання, віднімання та множення."
   ]
  },
  {
   "cell_type": "code",
   "execution_count": 6,
   "id": "c09af213-3260-4df9-b3fa-09de06146988",
   "metadata": {},
   "outputs": [
    {
     "name": "stdout",
     "output_type": "stream",
     "text": [
      "[ 9 12 15 12  5]\n",
      "[ 3 -2  5  0  3]\n",
      "[18 35 50 36  4]\n"
     ]
    }
   ],
   "source": [
    "x = np.random.randint(1, 11, size=5)\n",
    "y = np.random.randint(1, 11, size=5)\n",
    "print(x + y)\n",
    "print(x - y)\n",
    "print(x * y)"
   ]
  },
  {
   "cell_type": "markdown",
   "id": "1dfc82fc-f3ca-4cfb-b6e3-e418a1c0a201",
   "metadata": {},
   "source": [
    "6. Створіть два вектори розміром 7, заповніть довільними числами та знайдіть їх скалярний добуток."
   ]
  },
  {
   "cell_type": "code",
   "execution_count": 7,
   "id": "5b17aef2-5ba5-450d-9a89-5058eb364781",
   "metadata": {},
   "outputs": [
    {
     "name": "stdout",
     "output_type": "stream",
     "text": [
      "143\n"
     ]
    }
   ],
   "source": [
    "x = np.random.randint(1, 11, size=7)\n",
    "y = np.random.randint(1, 11, size=7)\n",
    "print(np.dot(x, y))"
   ]
  },
  {
   "cell_type": "markdown",
   "id": "cb55a93c-6b9c-4761-b0a5-5f84362e5e0e",
   "metadata": {},
   "source": [
    "7. Створіть дві матриці розміром 2x2 та 2x3, заповніть їх випадковими цілими числами в діапазоні від 1 до 10 та перемножте їх між собою."
   ]
  },
  {
   "cell_type": "code",
   "execution_count": 8,
   "id": "b4156610-385a-40af-8ef5-9c2437efbd1a",
   "metadata": {},
   "outputs": [
    {
     "name": "stdout",
     "output_type": "stream",
     "text": [
      "[[65 78 99]\n",
      " [47 53 81]]\n"
     ]
    }
   ],
   "source": [
    "x = np.random.randint(1, 11, size=(2, 2))\n",
    "y = np.random.randint(1, 11, size=(2, 3))\n",
    "print(np.dot(x, y))"
   ]
  },
  {
   "cell_type": "markdown",
   "id": "fb6dea31-7b6c-4f8e-93f0-7364d0c922e9",
   "metadata": {},
   "source": [
    "8. Створіть матрицю розміром 3x3, заповніть її випадковими цілими числами в діапазоні від 1 до 10 та знайдіть її обернену матрицю."
   ]
  },
  {
   "cell_type": "code",
   "execution_count": 9,
   "id": "169b3fa6-9307-4346-93cf-70f6f6a3bf0d",
   "metadata": {},
   "outputs": [
    {
     "name": "stdout",
     "output_type": "stream",
     "text": [
      "[[ 0.42105263  0.57894737 -0.89473684]\n",
      " [-0.36842105  0.36842105  0.15789474]\n",
      " [-0.21052632 -0.78947368  0.94736842]]\n"
     ]
    }
   ],
   "source": [
    "x = np.random.randint(1, 11, size=(3, 3))\n",
    "print(np.linalg.inv(x))"
   ]
  },
  {
   "cell_type": "markdown",
   "id": "78d0bb17-c39d-4bcb-8215-8ecaefcf9b25",
   "metadata": {},
   "source": [
    "9. Створіть матрицю розміром 4x4, заповніть її випадковими дійсними числами в діапазоні від 0 до 1 та транспонуйте її."
   ]
  },
  {
   "cell_type": "code",
   "execution_count": 10,
   "id": "cc5a0eda-3b86-42d3-9764-c300a66824b3",
   "metadata": {},
   "outputs": [
    {
     "name": "stdout",
     "output_type": "stream",
     "text": [
      "[[0.03289512 0.04955623 0.31522021 0.12645381]\n",
      " [0.45319716 0.1276534  0.64524562 0.05361448]\n",
      " [0.69874925 0.68262708 0.58641294 0.07111894]\n",
      " [0.62273969 0.03729567 0.04286636 0.27676312]]\n"
     ]
    }
   ],
   "source": [
    "x = np.random.rand(4, 4)\n",
    "print(x.T)"
   ]
  },
  {
   "cell_type": "markdown",
   "id": "8d5722cb-1b5b-428e-ad08-db1fa43bedf9",
   "metadata": {},
   "source": [
    "10. Створіть матрицю розміром 3x4 та вектор розміром 4, заповніть їх випадковими цілими числами в діапазоні від 1 до 10 та перемножте матрицю на вектор."
   ]
  },
  {
   "cell_type": "code",
   "execution_count": 11,
   "id": "5d37bffe-a5cc-49d6-8396-c41ce991ec6d",
   "metadata": {},
   "outputs": [
    {
     "name": "stdout",
     "output_type": "stream",
     "text": [
      "[135  95  52]\n"
     ]
    }
   ],
   "source": [
    "x = np.random.randint(1, 11, size=(3, 4))\n",
    "y = np.random.randint(1, 11, size=4)\n",
    "print(np.dot(x, y))"
   ]
  },
  {
   "cell_type": "markdown",
   "id": "f5cef740-b4bd-494f-a191-b5f51d582f6a",
   "metadata": {},
   "source": [
    "11. Створіть матрицю розміром 2x3 та вектор розміром 3, заповніть їх випадковими дійсними числами в діапазоні від 0 до 1 та перемножте матрицю на вектор."
   ]
  },
  {
   "cell_type": "code",
   "execution_count": 12,
   "id": "9532c292-b975-4284-8195-2df6eb51826d",
   "metadata": {},
   "outputs": [
    {
     "name": "stdout",
     "output_type": "stream",
     "text": [
      "[0.2487115  0.39664003]\n"
     ]
    }
   ],
   "source": [
    "x = np.random.rand(2, 3)\n",
    "y = np.random.rand(3)\n",
    "print(np.dot(x, y))"
   ]
  },
  {
   "cell_type": "markdown",
   "id": "524220c5-61df-40a2-82a0-7419c4dc290b",
   "metadata": {},
   "source": [
    "12. Створіть дві матриці розміром 2x2, заповніть їх випадковими цілими числами в діапазоні від 1 до 10 та виконайте їхнє поелементне множення."
   ]
  },
  {
   "cell_type": "code",
   "execution_count": 13,
   "id": "da0ce495-9a7a-44e0-b3e9-7993c228d464",
   "metadata": {},
   "outputs": [
    {
     "name": "stdout",
     "output_type": "stream",
     "text": [
      "[[ 5 32]\n",
      " [36 30]]\n"
     ]
    }
   ],
   "source": [
    "x = np.random.randint(1, 11, size=(2, 2))\n",
    "y = np.random.randint(1, 11, size=(2, 2))\n",
    "print(x * y)"
   ]
  },
  {
   "cell_type": "markdown",
   "id": "b3ee2aec-3bcc-4b2d-bf05-1e7a76ccfccd",
   "metadata": {},
   "source": [
    "13. Створіть дві матриці розміром 2x2, заповніть їх випадковими цілими числами в діапазоні від 1 до 10 та знайдіть їх добуток."
   ]
  },
  {
   "cell_type": "code",
   "execution_count": 14,
   "id": "74201f92-f174-40ca-a99f-45e278d80fa3",
   "metadata": {},
   "outputs": [
    {
     "name": "stdout",
     "output_type": "stream",
     "text": [
      "[[140  99]\n",
      " [109  77]]\n"
     ]
    }
   ],
   "source": [
    "x = np.random.randint(1, 11, size=(2, 2))\n",
    "y = np.random.randint(1, 11, size=(2, 2))\n",
    "print(np.dot(x, y))"
   ]
  },
  {
   "cell_type": "markdown",
   "id": "48f024d0-d194-4739-835a-dec6bf3ba6e5",
   "metadata": {},
   "source": [
    "14. Створіть матрицю розміром 5x5, заповніть її випадковими цілими числами в діапазоні від 1 до 100 та знайдіть суму елементів матриці."
   ]
  },
  {
   "cell_type": "code",
   "execution_count": 15,
   "id": "bf36cd4a-57e2-4cbe-9d4f-fb0a9c5d8f7b",
   "metadata": {},
   "outputs": [
    {
     "name": "stdout",
     "output_type": "stream",
     "text": [
      "1299\n"
     ]
    }
   ],
   "source": [
    "x = np.random.randint(1, 101, size=(5, 5))\n",
    "print(x.sum())               "
   ]
  },
  {
   "cell_type": "markdown",
   "id": "e31dbbe4-633d-4c1f-8e03-fb9c04b68580",
   "metadata": {},
   "source": [
    "15. Створіть дві матриці розміром 4x4, заповніть їх випадковими цілими числами в діапазоні від 1 до 10 та знайдіть їхню різницю."
   ]
  },
  {
   "cell_type": "code",
   "execution_count": 16,
   "id": "fafcfa9d-00bd-4e77-9612-62fdfae71494",
   "metadata": {},
   "outputs": [
    {
     "name": "stdout",
     "output_type": "stream",
     "text": [
      "[[-5 -3 -4  1]\n",
      " [ 6 -2  7 -4]\n",
      " [-2  6  0  1]\n",
      " [ 5 -1  6  3]]\n"
     ]
    }
   ],
   "source": [
    "x = np.random.randint(1, 11, size=(4, 4))\n",
    "y = np.random.randint(1, 11, size=(4, 4))\n",
    "print(x - y)"
   ]
  },
  {
   "cell_type": "markdown",
   "id": "a7ac6d48-d9dd-4692-9caa-3f7b9a18fa35",
   "metadata": {},
   "source": [
    "16. Створіть матрицю розміром 3x3, заповніть її випадковими дійсними числами в діапазоні від 0 до 1 та знайдіть вектор-стовпчик, що містить суму елементів кожного рядка матриці."
   ]
  },
  {
   "cell_type": "code",
   "execution_count": 17,
   "id": "c6c5d2b8-fa32-481f-8ec0-f2808efde24e",
   "metadata": {},
   "outputs": [
    {
     "name": "stdout",
     "output_type": "stream",
     "text": [
      "[[1.5949777 ]\n",
      " [1.52850109]\n",
      " [1.29457716]]\n"
     ]
    }
   ],
   "source": [
    "x = np.random.rand(3, 3)\n",
    "print(x.sum(axis=0).reshape(-1, 1))"
   ]
  },
  {
   "cell_type": "markdown",
   "id": "54e869f4-55c9-4941-8af3-b979a93abc48",
   "metadata": {},
   "source": [
    "17. Створіть матрицю розміром 3x4 з довільними цілими числами і створінь матрицю з квадратами цих чисел."
   ]
  },
  {
   "cell_type": "code",
   "execution_count": 18,
   "id": "12e4d7c7-cceb-49b9-9617-f84ee4176184",
   "metadata": {},
   "outputs": [
    {
     "name": "stdout",
     "output_type": "stream",
     "text": [
      "[[ 49  81   1  49]\n",
      " [  9 100  49  81]\n",
      " [ 16  16  49   9]]\n"
     ]
    }
   ],
   "source": [
    "x = np.random.randint(1, 11, size=(3, 4))\n",
    "print(np.square(x))"
   ]
  },
  {
   "cell_type": "markdown",
   "id": "1fbf8a5e-8931-4dd3-b797-6b71f8adbdd5",
   "metadata": {},
   "source": [
    "18. Створіть вектор розміром 4, заповніть його випадковими цілими числами в діапазоні від 1 до 50 та знайдіть вектор з квадратними коренями цих чисел."
   ]
  },
  {
   "cell_type": "code",
   "execution_count": 19,
   "id": "b8c84853-64c3-46d2-9a7b-8bb8ae37b6d0",
   "metadata": {},
   "outputs": [
    {
     "name": "stdout",
     "output_type": "stream",
     "text": [
      "[4.35889894 3.87298335 4.         1.41421356]\n"
     ]
    }
   ],
   "source": [
    "x = np.random.randint(1, 51, size=4)\n",
    "print(np.sqrt(x))"
   ]
  }
 ],
 "metadata": {
  "kernelspec": {
   "display_name": "Python 3 (ipykernel)",
   "language": "python",
   "name": "python3"
  },
  "language_info": {
   "codemirror_mode": {
    "name": "ipython",
    "version": 3
   },
   "file_extension": ".py",
   "mimetype": "text/x-python",
   "name": "python",
   "nbconvert_exporter": "python",
   "pygments_lexer": "ipython3",
   "version": "3.10.8"
  }
 },
 "nbformat": 4,
 "nbformat_minor": 5
}
