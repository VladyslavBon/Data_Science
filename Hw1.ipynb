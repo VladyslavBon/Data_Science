{
 "cells": [
  {
   "cell_type": "markdown",
   "id": "79482e72-5106-45dd-84a5-f978a8f50c84",
   "metadata": {},
   "source": [
    "1. Створіть одновимірний масив (вектор) з першими 10-ма натуральними числами та виведіть його значення."
   ]
  },
  {
   "cell_type": "code",
   "execution_count": 1,
   "id": "35a0deb9-cc5d-4374-af64-1a63183abc74",
   "metadata": {},
   "outputs": [
    {
     "name": "stdout",
     "output_type": "stream",
     "text": [
      "[ 1  2  3  4  5  6  7  8  9 10]\n"
     ]
    }
   ],
   "source": [
    "import numpy as np\n",
    "\n",
    "x = np.arange(1, 11)\n",
    "\n",
    "print(x)"
   ]
  },
  {
   "cell_type": "markdown",
   "id": "19b2e07a-3fb2-4ccb-94d2-2ef1126e3f23",
   "metadata": {},
   "source": [
    "2. Створіть двовимірний масив (матрицю) розміром 3x3, заповніть його нулями та виведіть його значення."
   ]
  },
  {
   "cell_type": "code",
   "execution_count": 2,
   "id": "abc10b7f-5027-4130-8167-f2aa1ee40e16",
   "metadata": {},
   "outputs": [
    {
     "name": "stdout",
     "output_type": "stream",
     "text": [
      "[[0. 0. 0.]\n",
      " [0. 0. 0.]\n",
      " [0. 0. 0.]]\n"
     ]
    }
   ],
   "source": [
    "x = np.zeros((3, 3))\n",
    "print(x)"
   ]
  },
  {
   "cell_type": "markdown",
   "id": "034a3744-1643-4057-878d-ff3bcf597116",
   "metadata": {},
   "source": [
    "3. Створіть масив розміром 5x5, заповніть його випадковими цілими числами в діапазоні від 1 до 10 та виведіть його значення."
   ]
  },
  {
   "cell_type": "code",
   "execution_count": 3,
   "id": "8de141f3-7edf-470a-80b8-769f0205154f",
   "metadata": {},
   "outputs": [
    {
     "name": "stdout",
     "output_type": "stream",
     "text": [
      "[[ 4  1  1  5  1]\n",
      " [ 3  1  4  9  8]\n",
      " [ 2  3  7 10  2]\n",
      " [ 4 10  3  2  6]\n",
      " [ 7  6  3  5  2]]\n"
     ]
    }
   ],
   "source": [
    "x = np.random.randint(1, 11, size=(5, 5))\n",
    "print(x)"
   ]
  },
  {
   "cell_type": "markdown",
   "id": "5820a503-2c04-47f1-887b-9454a7279ecd",
   "metadata": {},
   "source": [
    "4. Створіть масив розміром 4x4, заповніть його випадковими дійсними числами в діапазоні від 0 до 1 та виведіть його значення."
   ]
  },
  {
   "cell_type": "code",
   "execution_count": 4,
   "id": "3aad3d00-4d41-49d3-9ee4-f920769e228c",
   "metadata": {},
   "outputs": [
    {
     "name": "stdout",
     "output_type": "stream",
     "text": [
      "[[0.78806215 0.39997334 0.615874   0.40727873]\n",
      " [0.27128522 0.20636983 0.57782154 0.74264107]\n",
      " [0.12000154 0.06880519 0.93872725 0.79948841]\n",
      " [0.56274168 0.73919186 0.34510034 0.81787828]]\n"
     ]
    }
   ],
   "source": [
    "x = np.random.rand(4, 4)\n",
    "print(x)"
   ]
  },
  {
   "cell_type": "markdown",
   "id": "6f0fb34b-8982-49c4-ae41-b3cbe415cc0b",
   "metadata": {},
   "source": [
    "5. Створіть два одновимірних масиви розміром 5, заповніть їх випадковими цілими числами в діапазоні від 1 до 10 та виконайте на них поелементні операції додавання, віднімання та множення."
   ]
  },
  {
   "cell_type": "code",
   "execution_count": 5,
   "id": "c09af213-3260-4df9-b3fa-09de06146988",
   "metadata": {},
   "outputs": [
    {
     "name": "stdout",
     "output_type": "stream",
     "text": [
      "[10 11  8 12 16]\n",
      "[ 4 -9  6  0  4]\n",
      "[21 10  7 36 60]\n"
     ]
    }
   ],
   "source": [
    "x = np.random.randint(1, 11, size=5)\n",
    "y = np.random.randint(1, 11, size=5)\n",
    "print(x + y)\n",
    "print(x - y)\n",
    "print(x * y)"
   ]
  },
  {
   "cell_type": "markdown",
   "id": "1dfc82fc-f3ca-4cfb-b6e3-e418a1c0a201",
   "metadata": {},
   "source": [
    "6. Створіть два вектори розміром 7, заповніть довільними числами та знайдіть їх скалярний добуток."
   ]
  },
  {
   "cell_type": "code",
   "execution_count": 6,
   "id": "5b17aef2-5ba5-450d-9a89-5058eb364781",
   "metadata": {},
   "outputs": [
    {
     "name": "stdout",
     "output_type": "stream",
     "text": [
      "187\n"
     ]
    }
   ],
   "source": [
    "x = np.random.randint(1, 11, size=7)\n",
    "y = np.random.randint(1, 11, size=7)\n",
    "print(np.dot(x, y))"
   ]
  },
  {
   "cell_type": "markdown",
   "id": "cb55a93c-6b9c-4761-b0a5-5f84362e5e0e",
   "metadata": {},
   "source": [
    "7. Створіть дві матриці розміром 2x2 та 2x3, заповніть їх випадковими цілими числами в діапазоні від 1 до 10 та перемножте їх між собою."
   ]
  },
  {
   "cell_type": "code",
   "execution_count": 7,
   "id": "b4156610-385a-40af-8ef5-9c2437efbd1a",
   "metadata": {},
   "outputs": [
    {
     "name": "stdout",
     "output_type": "stream",
     "text": [
      "[[33 73 33]\n",
      " [75 17 12]]\n"
     ]
    }
   ],
   "source": [
    "x = np.random.randint(1, 11, size=(2, 2))\n",
    "y = np.random.randint(1, 11, size=(2, 3))\n",
    "print(np.dot(x, y))"
   ]
  },
  {
   "cell_type": "markdown",
   "id": "fb6dea31-7b6c-4f8e-93f0-7364d0c922e9",
   "metadata": {},
   "source": [
    "8. Створіть матрицю розміром 3x3, заповніть її випадковими цілими числами в діапазоні від 1 до 10 та знайдіть її обернену матрицю."
   ]
  },
  {
   "cell_type": "code",
   "execution_count": 8,
   "id": "169b3fa6-9307-4346-93cf-70f6f6a3bf0d",
   "metadata": {},
   "outputs": [
    {
     "name": "stdout",
     "output_type": "stream",
     "text": [
      "[[ 0.69230769 -1.30769231  0.76923077]\n",
      " [-0.34615385  1.15384615 -0.88461538]\n",
      " [-0.15384615 -0.15384615  0.38461538]]\n"
     ]
    }
   ],
   "source": [
    "x = np.random.randint(1, 11, size=(3, 3))\n",
    "print(np.linalg.inv(x))"
   ]
  },
  {
   "cell_type": "markdown",
   "id": "78d0bb17-c39d-4bcb-8215-8ecaefcf9b25",
   "metadata": {},
   "source": [
    "9. Створіть матрицю розміром 4x4, заповніть її випадковими дійсними числами в діапазоні від 0 до 1 та транспонуйте її."
   ]
  },
  {
   "cell_type": "code",
   "execution_count": 9,
   "id": "cc5a0eda-3b86-42d3-9764-c300a66824b3",
   "metadata": {},
   "outputs": [
    {
     "name": "stdout",
     "output_type": "stream",
     "text": [
      "[[0.54514438 0.59759264 0.10478796 0.06838988]\n",
      " [0.73847568 0.52817726 0.51745457 0.61159637]\n",
      " [0.86760582 0.57947247 0.77299456 0.08135624]\n",
      " [0.09854444 0.56380447 0.91642509 0.55528596]]\n"
     ]
    }
   ],
   "source": [
    "x = np.random.rand(4, 4)\n",
    "print(x.T)"
   ]
  },
  {
   "cell_type": "markdown",
   "id": "8d5722cb-1b5b-428e-ad08-db1fa43bedf9",
   "metadata": {},
   "source": [
    "10. Створіть матрицю розміром 3x4 та вектор розміром 4, заповніть їх випадковими цілими числами в діапазоні від 1 до 10 та перемножте матрицю на вектор."
   ]
  },
  {
   "cell_type": "code",
   "execution_count": 10,
   "id": "5d37bffe-a5cc-49d6-8396-c41ce991ec6d",
   "metadata": {},
   "outputs": [
    {
     "name": "stdout",
     "output_type": "stream",
     "text": [
      "[153 100 107]\n"
     ]
    }
   ],
   "source": [
    "x = np.random.randint(1, 11, size=(3, 4))\n",
    "y = np.random.randint(1, 11, size=4)\n",
    "print(np.dot(x, y))"
   ]
  },
  {
   "cell_type": "markdown",
   "id": "f5cef740-b4bd-494f-a191-b5f51d582f6a",
   "metadata": {},
   "source": [
    "11. Створіть матрицю розміром 2x3 та вектор розміром 3, заповніть їх випадковими дійсними числами в діапазоні від 0 до 1 та перемножте матрицю на вектор."
   ]
  },
  {
   "cell_type": "code",
   "execution_count": 11,
   "id": "9532c292-b975-4284-8195-2df6eb51826d",
   "metadata": {},
   "outputs": [
    {
     "name": "stdout",
     "output_type": "stream",
     "text": [
      "[1.31170116 1.33861021]\n"
     ]
    }
   ],
   "source": [
    "x = np.random.rand(2, 3)\n",
    "y = np.random.rand(3)\n",
    "print(np.dot(x, y))"
   ]
  },
  {
   "cell_type": "markdown",
   "id": "524220c5-61df-40a2-82a0-7419c4dc290b",
   "metadata": {},
   "source": [
    "12. Створіть дві матриці розміром 2x2, заповніть їх випадковими цілими числами в діапазоні від 1 до 10 та виконайте їхнє поелементне множення."
   ]
  },
  {
   "cell_type": "code",
   "execution_count": 12,
   "id": "da0ce495-9a7a-44e0-b3e9-7993c228d464",
   "metadata": {},
   "outputs": [
    {
     "name": "stdout",
     "output_type": "stream",
     "text": [
      "[[56 24]\n",
      " [ 7 60]]\n"
     ]
    }
   ],
   "source": [
    "x = np.random.randint(1, 11, size=(2, 2))\n",
    "y = np.random.randint(1, 11, size=(2, 2))\n",
    "print(x * y)"
   ]
  },
  {
   "cell_type": "markdown",
   "id": "b3ee2aec-3bcc-4b2d-bf05-1e7a76ccfccd",
   "metadata": {},
   "source": [
    "13. Створіть дві матриці розміром 2x2, заповніть їх випадковими цілими числами в діапазоні від 1 до 10 та знайдіть їх добуток."
   ]
  },
  {
   "cell_type": "code",
   "execution_count": 13,
   "id": "74201f92-f174-40ca-a99f-45e278d80fa3",
   "metadata": {},
   "outputs": [
    {
     "name": "stdout",
     "output_type": "stream",
     "text": [
      "[[ 26 126]\n",
      " [  9  63]]\n"
     ]
    }
   ],
   "source": [
    "x = np.random.randint(1, 11, size=(2, 2))\n",
    "y = np.random.randint(1, 11, size=(2, 2))\n",
    "print(np.dot(x, y))"
   ]
  },
  {
   "cell_type": "markdown",
   "id": "48f024d0-d194-4739-835a-dec6bf3ba6e5",
   "metadata": {},
   "source": [
    "14. Створіть матрицю розміром 5x5, заповніть її випадковими цілими числами в діапазоні від 1 до 100 та знайдіть суму елементів матриці."
   ]
  },
  {
   "cell_type": "code",
   "execution_count": 14,
   "id": "bf36cd4a-57e2-4cbe-9d4f-fb0a9c5d8f7b",
   "metadata": {},
   "outputs": [
    {
     "name": "stdout",
     "output_type": "stream",
     "text": [
      "1329\n"
     ]
    }
   ],
   "source": [
    "x = np.random.randint(1, 101, size=(5, 5))\n",
    "print(x.sum())               "
   ]
  },
  {
   "cell_type": "markdown",
   "id": "e31dbbe4-633d-4c1f-8e03-fb9c04b68580",
   "metadata": {},
   "source": [
    "15. Створіть дві матриці розміром 4x4, заповніть їх випадковими цілими числами в діапазоні від 1 до 10 та знайдіть їхню різницю."
   ]
  },
  {
   "cell_type": "code",
   "execution_count": 15,
   "id": "fafcfa9d-00bd-4e77-9612-62fdfae71494",
   "metadata": {},
   "outputs": [
    {
     "name": "stdout",
     "output_type": "stream",
     "text": [
      "[[ 3 -1 -2 -2]\n",
      " [ 1  7  3  5]\n",
      " [-6 -4 -6 -8]\n",
      " [-6 -3  0  2]]\n"
     ]
    }
   ],
   "source": [
    "x = np.random.randint(1, 11, size=(4, 4))\n",
    "y = np.random.randint(1, 11, size=(4, 4))\n",
    "print(x - y)"
   ]
  },
  {
   "cell_type": "markdown",
   "id": "a7ac6d48-d9dd-4692-9caa-3f7b9a18fa35",
   "metadata": {},
   "source": [
    "16. Створіть матрицю розміром 3x3, заповніть її випадковими дійсними числами в діапазоні від 0 до 1 та знайдіть вектор-стовпчик, що містить суму елементів кожного рядка матриці."
   ]
  },
  {
   "cell_type": "code",
   "execution_count": 16,
   "id": "c6c5d2b8-fa32-481f-8ec0-f2808efde24e",
   "metadata": {},
   "outputs": [
    {
     "name": "stdout",
     "output_type": "stream",
     "text": [
      "[[1.18320158]\n",
      " [1.95860484]\n",
      " [0.96588641]]\n"
     ]
    }
   ],
   "source": [
    "x = np.random.rand(3, 3)\n",
    "print(x.sum(axis=0).reshape(-1, 1))"
   ]
  },
  {
   "cell_type": "markdown",
   "id": "54e869f4-55c9-4941-8af3-b979a93abc48",
   "metadata": {},
   "source": [
    "17. Створіть матрицю розміром 3x4 з довільними цілими числами і створінь матрицю з квадратами цих чисел."
   ]
  },
  {
   "cell_type": "code",
   "execution_count": 17,
   "id": "12e4d7c7-cceb-49b9-9617-f84ee4176184",
   "metadata": {},
   "outputs": [
    {
     "name": "stdout",
     "output_type": "stream",
     "text": [
      "[[16  1  9  9]\n",
      " [36  9  4  1]\n",
      " [ 4 81 16  4]]\n"
     ]
    }
   ],
   "source": [
    "x = np.random.randint(1, 11, size=(3, 4))\n",
    "print(np.square(x))"
   ]
  },
  {
   "cell_type": "markdown",
   "id": "1fbf8a5e-8931-4dd3-b797-6b71f8adbdd5",
   "metadata": {},
   "source": [
    "18. Створіть вектор розміром 4, заповніть його випадковими цілими числами в діапазоні від 1 до 50 та знайдіть вектор з квадратними коренями цих чисел."
   ]
  },
  {
   "cell_type": "code",
   "execution_count": 18,
   "id": "b8c84853-64c3-46d2-9a7b-8bb8ae37b6d0",
   "metadata": {},
   "outputs": [
    {
     "name": "stdout",
     "output_type": "stream",
     "text": [
      "[6.4807407  4.47213595 1.41421356 5.        ]\n"
     ]
    }
   ],
   "source": [
    "x = np.random.randint(1, 51, size=4)\n",
    "print(np.sqrt(x))"
   ]
  }
 ],
 "metadata": {
  "kernelspec": {
   "display_name": "Python 3 (ipykernel)",
   "language": "python",
   "name": "python3"
  },
  "language_info": {
   "codemirror_mode": {
    "name": "ipython",
    "version": 3
   },
   "file_extension": ".py",
   "mimetype": "text/x-python",
   "name": "python",
   "nbconvert_exporter": "python",
   "pygments_lexer": "ipython3",
   "version": "3.10.8"
  }
 },
 "nbformat": 4,
 "nbformat_minor": 5
}
